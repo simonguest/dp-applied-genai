{
 "cells": [
  {
   "cell_type": "markdown",
   "id": "0a05e89a",
   "metadata": {},
   "source": [
    "# Exploring Embeddings using spaCy\n",
    "\n",
    "<div align=\"left\">\n",
    "  <a href=\"https://colab.research.google.com/github/simonguest/dp-applied-genai/blob/main/src/01/embeddings_using_spacy.ipynb\" target=\"_blank\">\n",
    "    <img src=\"https://colab.research.google.com/assets/colab-badge.svg\" alt=\"Open In Colab\"/>\n",
    "  </a>\n",
    "</div>\n",
    "\n",
    "## What are Vector Embeddings?\n",
    "\n",
    "Vector embeddings are numerical representations that map complex data—such as words, sentences, or images—into a continuous, high-dimensional vector space. This transformation enables machines to capture and process semantic relationships and contextual meanings inherent in the data. For instance, in natural language processing (NLP), word embeddings position semantically similar words closer together in the vector space, facilitating tasks like sentiment analysis, machine translation, and information retrieval.\n",
    "\n",
    "In this notebook, we'll use a popular Python library called spaCy."
   ]
  },
  {
   "cell_type": "markdown",
   "id": "a7d3d62b",
   "metadata": {},
   "source": [
    "## spaCy Dependencies\n",
    "\n",
    "Run the following cell to download the English pipeline (medium) optimized for CPU. You can find more information here: https://spacy.io/models/en#en_core_web_md"
   ]
  },
  {
   "cell_type": "code",
   "execution_count": 1,
   "id": "0575de0c",
   "metadata": {},
   "outputs": [
    {
     "name": "stdout",
     "output_type": "stream",
     "text": [
      "Collecting en-core-web-md==3.8.0\n",
      "  Downloading https://github.com/explosion/spacy-models/releases/download/en_core_web_md-3.8.0/en_core_web_md-3.8.0-py3-none-any.whl (33.5 MB)\n",
      "\u001b[2K     \u001b[38;2;114;156;31m━━━━━━━━━━━━━━━━━━━━━━━━━━━━━━━━━━━━━━━\u001b[0m \u001b[32m33.5/33.5 MB\u001b[0m \u001b[31m119.2 MB/s\u001b[0m eta \u001b[36m0:00:00\u001b[0m MB/s\u001b[0m eta \u001b[36m0:00:01\u001b[0m\n",
      "\u001b[?25h\u001b[38;5;2m✔ Download and installation successful\u001b[0m\n",
      "You can now load the package via spacy.load('en_core_web_md')\n"
     ]
    }
   ],
   "source": [
    "!python -m spacy download en_core_web_md"
   ]
  },
  {
   "cell_type": "markdown",
   "id": "dc7e2ccd",
   "metadata": {},
   "source": [
    "## Generate Embeddings\n",
    "\n",
    "Run the following code to generate the embeddings for a simple sentence. Try with other words/sentences/paragraphs. What do you notice?"
   ]
  },
  {
   "cell_type": "code",
   "execution_count": null,
   "id": "2a3dc56a",
   "metadata": {},
   "outputs": [
    {
     "name": "stdout",
     "output_type": "stream",
     "text": [
      "[-0.72483    0.42538    0.025489  -0.39807    0.037463  -0.29811\n",
      " -0.28279    0.29333    0.57775    1.2205    -0.27903    0.80879\n",
      " -0.71291    0.045808  -0.46751    0.55944    0.42745    0.58238\n",
      "  0.20854   -0.42718   -0.40284   -0.048941   0.1149    -0.6963\n",
      " -0.03338    0.052596  -0.22572   -0.35996    0.47961   -0.38386\n",
      " -0.73837    0.1718     0.52188    0.45584   -0.026621   0.48831\n",
      "  0.67996   -0.73345   -0.27078    0.41739    0.1947     0.27389\n",
      " -0.70931   -0.45317   -0.22574   -0.12617    0.03268    0.142\n",
      "  0.53923   -0.61285   -0.5322     0.19479    0.13889   -0.020284\n",
      "  0.088162   0.85337    0.039407   0.11529   -0.42646    0.74832\n",
      "  0.34421   -0.59462    0.0040537  0.027203  -0.063394   0.26538\n",
      "  0.34757    0.21395   -0.39799   -0.027067  -0.36132    0.31979\n",
      "  0.55813   -0.5652     0.55382    0.03928   -0.26933   -0.14705\n",
      "  0.74032   -0.50566    0.023765   0.62273   -0.79388   -0.25165\n",
      "  0.11992   -0.43056    1.0614     0.58571    0.8856    -0.056054\n",
      "  0.055826   0.30485    0.64639   -0.43831   -0.45706    0.036471\n",
      " -0.3466    -0.56219    0.28105   -0.33758   -0.041398   0.22171\n",
      "  0.05262    0.18113    0.65646   -0.56217    0.038915  -0.30335\n",
      "  0.05051   -0.2354     0.3233     0.31744    0.52453   -0.47154\n",
      "  0.13152   -0.15104    0.14265   -0.20747    0.060413  -0.030342\n",
      " -0.092883   0.80421   -0.12497   -0.56199    0.29128   -0.22488\n",
      "  0.30282   -0.0045144 -0.12305    0.20396   -0.32202   -0.11409\n",
      " -0.37613    0.40457    0.21461    0.25741   -0.36489    0.94135\n",
      "  0.42725    0.022925  -1.8699    -0.76035    0.73771    0.36998\n",
      "  0.50214   -0.30617   -0.26526    0.86573    0.3808     0.14754\n",
      "  0.29932   -0.078863  -0.28992   -0.064636  -0.68914    0.19527\n",
      " -0.56368    0.26251   -0.52171   -1.0703     0.42478   -0.0067289\n",
      " -0.28591   -0.77831    0.049342   0.66675   -0.077419  -0.19226\n",
      "  0.12721   -0.18844    0.13647    0.38804    0.21917   -0.24192\n",
      " -0.13465    0.23119   -0.43197    0.48302    0.3598     1.128\n",
      "  0.019894  -0.10861   -0.13515   -0.34137   -0.36379    0.080616\n",
      "  0.28682   -0.045819  -0.12114   -0.44835   -0.054611  -0.10362\n",
      "  0.010954  -0.60063   -0.46665    0.15115   -0.31815   -0.58903\n",
      "  1.1325     0.04406   -0.92863    0.3399    -0.03463   -0.40474\n",
      "  0.17245   -0.19983   -0.095982  -0.074758   0.57472    0.25455\n",
      " -0.20387    0.055758  -0.65017    0.72629   -0.51083    0.11196\n",
      "  0.44724    0.16157   -0.34571    0.19227   -0.063871   0.0057351\n",
      "  0.48703   -0.53762   -0.73398   -0.11488    0.073723   0.58191\n",
      "  0.33192   -0.13303   -0.3478    -0.022676  -0.32494   -0.26496\n",
      "  0.56275    0.098558  -0.16671   -0.40481    0.55477   -0.58692\n",
      " -0.60433   -0.4227    -0.53712    0.2994     0.11339   -0.3154\n",
      " -0.28685    0.43999    0.013623   0.011139  -0.47734   -0.01492\n",
      "  0.52524    0.53583    0.36626    0.23119   -0.1386     0.35374\n",
      " -0.27448    0.066183   0.6224    -0.24851   -0.36066    0.009084\n",
      " -0.58148    0.24371    0.29944   -0.025314  -0.73222    0.33236\n",
      " -0.40339    0.82624    0.006984   0.26737   -0.27695   -0.09713\n",
      " -0.015736   0.1024    -0.026831  -0.26293    0.31401    0.01051\n",
      " -0.048451  -0.74571    0.75827    0.67771    0.054738  -0.23325\n",
      "  0.17996   -0.206      0.019095  -0.34283   -0.58602    0.0095634\n",
      " -0.085052   0.83312    0.31978    0.050317  -0.23159    0.28165  ]\n"
     ]
    }
   ],
   "source": [
    "import spacy\n",
    "\n",
    "# Load the pre-trained model\n",
    "nlp = spacy.load(\"en_core_web_md\")\n",
    "\n",
    "# Process the word/sentence\n",
    "doc = nlp(\"The cat sat on the mat.\")\n",
    "\n",
    "# Display the embeddings\n",
    "print(doc.vector)"
   ]
  },
  {
   "cell_type": "markdown",
   "id": "170ffc36",
   "metadata": {},
   "source": [
    "## Investigate Similarity\n",
    "\n",
    "We can use spaCy's `similarity` function to generate a similarity score between two sentences. "
   ]
  },
  {
   "cell_type": "code",
   "execution_count": 4,
   "id": "603c0f9f",
   "metadata": {},
   "outputs": [
    {
     "name": "stdout",
     "output_type": "stream",
     "text": [
      "Similarity score: 0.7523308992385864\n"
     ]
    }
   ],
   "source": [
    "import spacy\n",
    "\n",
    "# Load the pre-trained model\n",
    "nlp = spacy.load(\"en_core_web_md\")\n",
    "\n",
    "# Process the sentences\n",
    "doc1 = nlp(\"The cat sat on the mat.\")\n",
    "doc2 = nlp(\"A feline rested on a rug.\")\n",
    "\n",
    "# Compute similarity\n",
    "similarity_score = doc1.similarity(doc2)\n",
    "\n",
    "print(f\"Similarity score: {similarity_score}\")"
   ]
  },
  {
   "cell_type": "markdown",
   "id": "dc3941eb",
   "metadata": {},
   "source": [
    "## Syntactic or Semantic Similarity?\n",
    "\n",
    "What do you notice about the similarity scores? Are they syntactic or semantic? Re-run the previous cell with different sentences to find out."
   ]
  }
 ],
 "metadata": {
  "kernelspec": {
   "display_name": ".venv",
   "language": "python",
   "name": "python3"
  },
  "language_info": {
   "codemirror_mode": {
    "name": "ipython",
    "version": 3
   },
   "file_extension": ".py",
   "mimetype": "text/x-python",
   "name": "python",
   "nbconvert_exporter": "python",
   "pygments_lexer": "ipython3",
   "version": "3.13.1"
  }
 },
 "nbformat": 4,
 "nbformat_minor": 5
}
