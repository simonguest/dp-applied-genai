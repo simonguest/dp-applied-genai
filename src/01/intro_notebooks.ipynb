{
 "cells": [
  {
   "cell_type": "markdown",
   "metadata": {},
   "source": [
    "# Introduction to Jupyter Notebooks\n",
    "\n",
    "[![Open In Colab](https://colab.research.google.com/assets/colab-badge.svg)](https://colab.research.google.com/github/simonguest/dp-applied-genai/blob/main/src/01/intro_notebooks.ipynb)\n",
    "\n",
    "Welcome to your first Jupyter notebook! This interactive document will teach you the fundamentals of working with notebooks.\n",
    "\n",
    "## What is a Jupyter Notebook?\n",
    "\n",
    "A Jupyter notebook is an interactive computing environment that allows you to:\n",
    "- Write and execute code in cells\n",
    "- Include rich text, equations, and visualizations\n",
    "- Document your thought process alongside your code\n",
    "- Share reproducible research and analysis\n",
    "\n",
    "Notebooks are widely used in data science, machine learning, research, and education."
   ]
  },
  {
   "cell_type": "markdown",
   "metadata": {},
   "source": [
    "## Cell Types\n",
    "\n",
    "Notebooks consist of **cells** - the building blocks of your document. There are two main types:\n",
    "\n",
    "1. **Markdown cells** (like this one) - for text, documentation, and formatting\n",
    "2. **Code cells** - for executable code"
   ]
  },
  {
   "cell_type": "code",
   "execution_count": null,
   "metadata": {},
   "outputs": [],
   "source": [
    "# This is a code cell!\n",
    "# Let's start with a simple Python example\n",
    "\n",
    "print(\"Hello, Jupyter!\")\n",
    "print(\"This code will execute when you run the cell\")"
   ]
  },
  {
   "cell_type": "markdown",
   "metadata": {},
   "source": [
    "## Running Cells\n",
    "\n",
    "To execute a cell, you have several options:\n",
    "- **Shift + Enter** - Run cell and move to next\n",
    "- **Ctrl + Enter** - Run cell and stay in current cell\n",
    "- Click the \"Run\" button in the toolbar\n",
    "\n",
    "Try running the code cell above!"
   ]
  },
  {
   "cell_type": "code",
   "execution_count": null,
   "metadata": {},
   "outputs": [],
   "source": [
    "# Variables persist between cells\n",
    "name = \"CS Student\"\n",
    "course = \"Applied GenAI\"\n",
    "\n",
    "print(f\"Welcome {name} to {course}!\")"
   ]
  },
  {
   "cell_type": "code",
   "execution_count": null,
   "metadata": {},
   "outputs": [],
   "source": [
    "# The variable 'name' from the previous cell is still available\n",
    "print(f\"Your name is: {name}\")\n",
    "\n",
    "# Let's do some basic math\n",
    "x = 10\n",
    "y = 5\n",
    "result = x * y\n",
    "\n",
    "print(f\"{x} × {y} = {result}\")"
   ]
  },
  {
   "cell_type": "markdown",
   "metadata": {},
   "source": [
    "## Working with Libraries\n",
    "\n",
    "Notebooks are perfect for data analysis and visualization. Let's import some common libraries:"
   ]
  },
  {
   "cell_type": "code",
   "execution_count": null,
   "metadata": {},
   "outputs": [],
   "source": [
    "# Import common libraries\n",
    "import numpy as np\n",
    "import matplotlib.pyplot as plt\n",
    "\n",
    "# Create some sample data\n",
    "x = np.linspace(0, 10, 100)\n",
    "y = np.sin(x)\n",
    "\n",
    "# Create a simple plot\n",
    "plt.figure(figsize=(8, 4))\n",
    "plt.plot(x, y, 'b-', linewidth=2)\n",
    "plt.title('Sine Wave')\n",
    "plt.xlabel('x')\n",
    "plt.ylabel('sin(x)')\n",
    "plt.grid(True, alpha=0.3)\n",
    "plt.show()"
   ]
  },
  {
   "cell_type": "markdown",
   "metadata": {},
   "source": [
    "## Markdown Features\n",
    "\n",
    "Markdown cells support rich formatting:\n",
    "\n",
    "### Text Formatting\n",
    "- **Bold text**\n",
    "- *Italic text*\n",
    "- `Code snippets`\n",
    "\n",
    "### Lists\n",
    "1. Numbered lists\n",
    "2. Are great for\n",
    "3. Step-by-step instructions\n",
    "\n",
    "### Math Equations\n",
    "You can include LaTeX math: $E = mc^2$\n",
    "\n",
    "Or display equations:\n",
    "$$\\int_{-\\infty}^{\\infty} e^{-x^2} dx = \\sqrt{\\pi}$$"
   ]
  },
  {
   "cell_type": "code",
   "execution_count": null,
   "metadata": {},
   "outputs": [],
   "source": [
    "# Let's explore some data structures\n",
    "students = ['Alice', 'Bob', 'Charlie', 'Diana']\n",
    "grades = [92, 87, 95, 89]\n",
    "\n",
    "# Create a simple grade report\n",
    "print(\"Grade Report:\")\n",
    "print(\"-\" * 20)\n",
    "for student, grade in zip(students, grades):\n",
    "    print(f\"{student}: {grade}%\")\n",
    "\n",
    "# Calculate average\n",
    "average = sum(grades) / len(grades)\n",
    "print(f\"\\nClass Average: {average:.1f}%\")"
   ]
  },
  {
   "cell_type": "markdown",
   "metadata": {},
   "source": [
    "## Key Benefits of Notebooks\n",
    "\n",
    "1. **Interactive Development** - Test code incrementally\n",
    "2. **Documentation** - Combine code with explanations\n",
    "3. **Visualization** - Plots and charts display inline\n",
    "4. **Reproducibility** - Share complete analysis workflows\n",
    "5. **Education** - Perfect for learning and teaching\n",
    "\n",
    "## Next Steps\n",
    "\n",
    "Now that you understand the basics:\n",
    "- Experiment with creating your own cells\n",
    "- Try different types of code and markdown\n",
    "- Explore the toolbar and menu options\n",
    "- Practice the keyboard shortcuts\n",
    "\n",
    "**Remember**: Notebooks are meant to be interactive - don't just read, experiment!"
   ]
  }
 ],
 "metadata": {
  "kernelspec": {
   "display_name": "Python 3",
   "language": "python",
   "name": "python3"
  },
  "language_info": {
   "codemirror_mode": {
    "name": "ipython",
    "version": 3
   },
   "file_extension": ".py",
   "mimetype": "text/x-python",
   "name": "python",
   "nbconvert_exporter": "python",
   "pygments_lexer": "ipython3",
   "version": "3.8.5"
  }
 },
 "nbformat": 4,
 "nbformat_minor": 4
}
