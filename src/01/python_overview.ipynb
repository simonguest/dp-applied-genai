{
 "cells": [
  {
   "cell_type": "markdown",
   "metadata": {},
   "source": [
    "# Welcome to Python!\n",
    "\n",
    "<div align=\"left\">\n",
    "  <a href=\"https://colab.research.google.com/github/simonguest/dp-applied-genai/blob/main/src/01/python_overview.ipynb\" target=\"_blank\">\n",
    "    <img src=\"https://colab.research.google.com/assets/colab-badge.svg\" alt=\"Open In Colab\"/>\n",
    "  </a>\n",
    "</div>\n",
    "\n",
    "If you're coming from C# or C++, this notebook will help you quickly understand Python's syntax and key differences.\n",
    "\n",
    "## Why Python for AI/ML?\n",
    "\n",
    "Python has become the dominant language in AI and machine learning because of:\n",
    "- **Simple, readable syntax** - Focus on algorithms, not syntax\n",
    "- **Rich ecosystem** - Libraries like NumPy, TensorFlow, PyTorch\n",
    "- **Interactive development** - Perfect for experimentation\n",
    "- **Strong community** - Extensive documentation and support"
   ]
  },
  {
   "cell_type": "markdown",
   "metadata": {},
   "source": [
    "## Key Differences from C#/C++\n",
    "\n",
    "### 1. No Semicolons or Braces\n",
    "Python uses **indentation** to define code blocks instead of braces `{}`"
   ]
  },
  {
   "cell_type": "code",
   "execution_count": 15,
   "metadata": {},
   "outputs": [
    {
     "name": "stdout",
     "output_type": "stream",
     "text": [
      "This is inside the if block\n",
      "Still inside the block\n",
      "This is outside the block\n"
     ]
    }
   ],
   "source": [
    "# Python - indentation matters!\n",
    "if True:\n",
    "    print(\"This is inside the if block\")\n",
    "    print(\"Still inside the block\")\n",
    "print(\"This is outside the block\")\n",
    "\n",
    "# Compare to C#/C++:\n",
    "# if (true) {\n",
    "#     Console.WriteLine(\"Inside block\");\n",
    "#     Console.WriteLine(\"Still inside\");\n",
    "# }\n",
    "# Console.WriteLine(\"Outside block\");"
   ]
  },
  {
   "cell_type": "markdown",
   "metadata": {},
   "source": [
    "### 2. Dynamic Typing\n",
    "No need to declare variable types - Python figures it out!"
   ]
  },
  {
   "cell_type": "code",
   "execution_count": 16,
   "metadata": {},
   "outputs": [
    {
     "name": "stdout",
     "output_type": "stream",
     "text": [
      "Name: Alice, Age: 25, Height: 5.6, Student: True\n",
      "Age is now: twenty-five\n"
     ]
    }
   ],
   "source": [
    "# Python - dynamic typing\n",
    "name = \"Alice\"        # string\n",
    "age = 25             # integer\n",
    "height = 5.6         # float\n",
    "is_student = True    # boolean\n",
    "\n",
    "print(f\"Name: {name}, Age: {age}, Height: {height}, Student: {is_student}\")\n",
    "\n",
    "# Variables can change type!\n",
    "age = \"twenty-five\"  # Now it's a string\n",
    "print(f\"Age is now: {age}\")\n",
    "\n",
    "# Compare to C#:\n",
    "# string name = \"Alice\";\n",
    "# int age = 25;\n",
    "# double height = 5.6;\n",
    "# bool isStudent = true;"
   ]
  },
  {
   "cell_type": "markdown",
   "metadata": {},
   "source": [
    "## Basic Data Types and Operations"
   ]
  },
  {
   "cell_type": "code",
   "execution_count": 17,
   "metadata": {},
   "outputs": [
    {
     "name": "stdout",
     "output_type": "stream",
     "text": [
      "Addition: 13\n",
      "Division: 3.3333333333333335\n",
      "Integer division: 3\n",
      "Modulo: 1\n",
      "Power: 1000\n",
      "Full name: John Doe\n",
      "Hello, John Doe! You are twenty-five years old.\n"
     ]
    }
   ],
   "source": [
    "# Numbers\n",
    "x = 10\n",
    "y = 3\n",
    "\n",
    "print(f\"Addition: {x + y}\")\n",
    "print(f\"Division: {x / y}\")        # Always returns float\n",
    "print(f\"Integer division: {x // y}\") # Floor division\n",
    "print(f\"Modulo: {x % y}\")\n",
    "print(f\"Power: {x ** y}\")\n",
    "\n",
    "# Strings\n",
    "first_name = \"John\"\n",
    "last_name = \"Doe\"\n",
    "full_name = first_name + \" \" + last_name  # Concatenation\n",
    "print(f\"Full name: {full_name}\")\n",
    "\n",
    "# F-strings (formatted string literals) - very useful!\n",
    "message = f\"Hello, {full_name}! You are {age} years old.\"\n",
    "print(message)"
   ]
  },
  {
   "cell_type": "markdown",
   "metadata": {},
   "source": [
    "## Collections: Lists, Tuples, and Dictionaries\n",
    "\n",
    "### Lists (like arrays, but more flexible)"
   ]
  },
  {
   "cell_type": "code",
   "execution_count": 18,
   "metadata": {},
   "outputs": [
    {
     "name": "stdout",
     "output_type": "stream",
     "text": [
      "Numbers: [1, 2, 3, 4, 5]\n",
      "First number: 1\n",
      "Last number: 5\n",
      "After modifications: [0, 1, 2, 3, 4, 5, 6]\n",
      "First three: [0, 1, 2]\n",
      "Last three: [4, 5, 6]\n",
      "Every other: [0, 2, 4, 6]\n"
     ]
    }
   ],
   "source": [
    "# Lists - mutable, ordered collections\n",
    "numbers = [1, 2, 3, 4, 5]\n",
    "mixed_list = [\"hello\", 42, 3.14, True]  # Can hold different types!\n",
    "\n",
    "print(f\"Numbers: {numbers}\")\n",
    "print(f\"First number: {numbers[0]}\")\n",
    "print(f\"Last number: {numbers[-1]}\")  # Negative indexing!\n",
    "\n",
    "# List operations\n",
    "numbers.append(6)        # Add to end\n",
    "numbers.insert(0, 0)     # Insert at position\n",
    "print(f\"After modifications: {numbers}\")\n",
    "\n",
    "# List slicing\n",
    "print(f\"First three: {numbers[:3]}\")\n",
    "print(f\"Last three: {numbers[-3:]}\")\n",
    "print(f\"Every other: {numbers[::2]}\")"
   ]
  },
  {
   "cell_type": "markdown",
   "metadata": {},
   "source": [
    "### Dictionaries (like hash maps/dictionaries in C#)"
   ]
  },
  {
   "cell_type": "code",
   "execution_count": 19,
   "metadata": {},
   "outputs": [
    {
     "name": "stdout",
     "output_type": "stream",
     "text": [
      "Student name: Alice\n",
      "Student GPA: 3.8\n",
      "Updated student: {'name': 'Alice', 'age': 20, 'major': 'Computer Science', 'gpa': 3.9, 'year': 'Junior'}\n",
      "name: Alice\n",
      "age: 20\n",
      "major: Computer Science\n",
      "gpa: 3.9\n",
      "year: Junior\n"
     ]
    }
   ],
   "source": [
    "# Dictionaries - key-value pairs\n",
    "student = {\n",
    "    \"name\": \"Alice\",\n",
    "    \"age\": 20,\n",
    "    \"major\": \"Computer Science\",\n",
    "    \"gpa\": 3.8\n",
    "}\n",
    "\n",
    "print(f\"Student name: {student['name']}\")\n",
    "print(f\"Student GPA: {student['gpa']}\")\n",
    "\n",
    "# Adding/modifying entries\n",
    "student[\"year\"] = \"Junior\"\n",
    "student[\"gpa\"] = 3.9\n",
    "\n",
    "print(f\"Updated student: {student}\")\n",
    "\n",
    "# Iterating through dictionaries\n",
    "for key, value in student.items():\n",
    "    print(f\"{key}: {value}\")"
   ]
  },
  {
   "cell_type": "markdown",
   "metadata": {},
   "source": [
    "## Control Flow\n",
    "\n",
    "### Loops"
   ]
  },
  {
   "cell_type": "code",
   "execution_count": 20,
   "metadata": {},
   "outputs": [
    {
     "name": "stdout",
     "output_type": "stream",
     "text": [
      "I like apple\n",
      "I like banana\n",
      "I like orange\n",
      "0: apple\n",
      "1: banana\n",
      "2: orange\n",
      "Count: 0\n",
      "Count: 1\n",
      "Count: 2\n",
      "Count: 3\n",
      "Count: 4\n",
      "While loop iteration: 0\n",
      "While loop iteration: 1\n",
      "While loop iteration: 2\n"
     ]
    }
   ],
   "source": [
    "# For loops - very different from C++/C#!\n",
    "fruits = [\"apple\", \"banana\", \"orange\"]\n",
    "\n",
    "# Iterate over items directly\n",
    "for fruit in fruits:\n",
    "    print(f\"I like {fruit}\")\n",
    "\n",
    "# If you need indices\n",
    "for i, fruit in enumerate(fruits):\n",
    "    print(f\"{i}: {fruit}\")\n",
    "\n",
    "# Range function for numeric loops\n",
    "for i in range(5):  # 0 to 4\n",
    "    print(f\"Count: {i}\")\n",
    "\n",
    "# While loops work similarly to C++/C#\n",
    "count = 0\n",
    "while count < 3:\n",
    "    print(f\"While loop iteration: {count}\")\n",
    "    count += 1"
   ]
  },
  {
   "cell_type": "markdown",
   "metadata": {},
   "source": [
    "### Conditional Statements"
   ]
  },
  {
   "cell_type": "code",
   "execution_count": 21,
   "metadata": {},
   "outputs": [
    {
     "name": "stdout",
     "output_type": "stream",
     "text": [
      "Score: 85, Grade: B\n",
      "Can drive!\n"
     ]
    }
   ],
   "source": [
    "score = 85\n",
    "\n",
    "# Note: elif instead of \"else if\"\n",
    "if score >= 90:\n",
    "    grade = \"A\"\n",
    "elif score >= 80:\n",
    "    grade = \"B\"\n",
    "elif score >= 70:\n",
    "    grade = \"C\"\n",
    "else:\n",
    "    grade = \"F\"\n",
    "\n",
    "print(f\"Score: {score}, Grade: {grade}\")\n",
    "\n",
    "# Boolean operators: and, or, not (instead of &&, ||, !)\n",
    "age = 20\n",
    "has_license = True\n",
    "\n",
    "if age >= 18 and has_license:\n",
    "    print(\"Can drive!\")\n",
    "elif age >= 16 or has_license:\n",
    "    print(\"Might be able to drive with restrictions\")\n",
    "else:\n",
    "    print(\"Cannot drive\")"
   ]
  },
  {
   "cell_type": "markdown",
   "metadata": {},
   "source": [
    "## Functions\n",
    "\n",
    "Functions in Python are defined with the `def` keyword"
   ]
  },
  {
   "cell_type": "code",
   "execution_count": 22,
   "metadata": {},
   "outputs": [
    {
     "name": "stdout",
     "output_type": "stream",
     "text": [
      "Hello, Alice!\n",
      "Grade: B\n",
      "Grade with extra credit: A\n",
      "First: John, Last: Smith\n"
     ]
    }
   ],
   "source": [
    "# Basic function\n",
    "def greet(name):\n",
    "    return f\"Hello, {name}!\"\n",
    "\n",
    "# Function with default parameters\n",
    "def calculate_grade(score, extra_credit=0):\n",
    "    total = score + extra_credit\n",
    "    if total >= 90:\n",
    "        return \"A\"\n",
    "    elif total >= 80:\n",
    "        return \"B\"\n",
    "    elif total >= 70:\n",
    "        return \"C\"\n",
    "    else:\n",
    "        return \"F\"\n",
    "\n",
    "# Function that returns multiple values\n",
    "def get_name_parts(full_name):\n",
    "    parts = full_name.split()\n",
    "    first = parts[0]\n",
    "    last = parts[-1]\n",
    "    return first, last  # Returns a tuple\n",
    "\n",
    "# Using the functions\n",
    "print(greet(\"Alice\"))\n",
    "print(f\"Grade: {calculate_grade(85)}\")\n",
    "print(f\"Grade with extra credit: {calculate_grade(85, 5)}\")\n",
    "\n",
    "first_name, last_name = get_name_parts(\"John Doe Smith\")\n",
    "print(f\"First: {first_name}, Last: {last_name}\")"
   ]
  },
  {
   "cell_type": "markdown",
   "metadata": {},
   "source": [
    "## List Comprehensions - A Python Superpower!\n",
    "\n",
    "List comprehensions provide a concise way to create lists"
   ]
  },
  {
   "cell_type": "code",
   "execution_count": 23,
   "metadata": {},
   "outputs": [
    {
     "name": "stdout",
     "output_type": "stream",
     "text": [
      "Squares (traditional): [0, 1, 4, 9, 16, 25, 36, 49, 64, 81]\n",
      "Squares (comprehension): [0, 1, 4, 9, 16, 25, 36, 49, 64, 81]\n",
      "Even squares: [0, 4, 16, 36, 64]\n",
      "Uppercase: ['HELLO', 'WORLD', 'PYTHON', 'ROCKS']\n",
      "Long words: ['hello', 'world', 'python', 'rocks']\n"
     ]
    }
   ],
   "source": [
    "# Traditional way (like C++/C#)\n",
    "squares = []\n",
    "for i in range(10):\n",
    "    squares.append(i ** 2)\n",
    "print(f\"Squares (traditional): {squares}\")\n",
    "\n",
    "# Python way - list comprehension\n",
    "squares = [i ** 2 for i in range(10)]\n",
    "print(f\"Squares (comprehension): {squares}\")\n",
    "\n",
    "# With conditions\n",
    "even_squares = [i ** 2 for i in range(10) if i % 2 == 0]\n",
    "print(f\"Even squares: {even_squares}\")\n",
    "\n",
    "# Working with strings\n",
    "words = [\"hello\", \"world\", \"python\", \"rocks\"]\n",
    "uppercase_words = [word.upper() for word in words]\n",
    "long_words = [word for word in words if len(word) > 4]\n",
    "\n",
    "print(f\"Uppercase: {uppercase_words}\")\n",
    "print(f\"Long words: {long_words}\")"
   ]
  },
  {
   "cell_type": "markdown",
   "metadata": {},
   "source": [
    "## Working with Libraries\n",
    "\n",
    "Python's strength comes from its extensive library ecosystem"
   ]
  },
  {
   "cell_type": "code",
   "execution_count": 24,
   "metadata": {},
   "outputs": [
    {
     "name": "stdout",
     "output_type": "stream",
     "text": [
      "Pi: 3.141592653589793\n",
      "Square root of 16: 4.0\n",
      "Sine of 90 degrees: 1.0\n",
      "Random number: 78\n",
      "Random choice: green\n",
      "Current time: 2025-05-30 13:23:00.817462\n",
      "Formatted: 2025-05-30 13:23:00\n"
     ]
    }
   ],
   "source": [
    "# Import statements\n",
    "import math\n",
    "import random\n",
    "from datetime import datetime\n",
    "\n",
    "# Using math library\n",
    "print(f\"Pi: {math.pi}\")\n",
    "print(f\"Square root of 16: {math.sqrt(16)}\")\n",
    "print(f\"Sine of 90 degrees: {math.sin(math.radians(90))}\")\n",
    "\n",
    "# Random numbers\n",
    "print(f\"Random number: {random.randint(1, 100)}\")\n",
    "print(f\"Random choice: {random.choice(['red', 'blue', 'green'])}\")\n",
    "\n",
    "# Date and time\n",
    "now = datetime.now()\n",
    "print(f\"Current time: {now}\")\n",
    "print(f\"Formatted: {now.strftime('%Y-%m-%d %H:%M:%S')}\")"
   ]
  },
  {
   "cell_type": "markdown",
   "metadata": {},
   "source": [
    "## Exception Handling\n",
    "\n",
    "Similar to C#, but with `try/except` instead of `try/catch`"
   ]
  },
  {
   "cell_type": "code",
   "execution_count": 25,
   "metadata": {},
   "outputs": [
    {
     "name": "stdout",
     "output_type": "stream",
     "text": [
      "Division operation completed\n",
      "10 / 2 = 5.0\n",
      "Error: Cannot divide by zero!\n",
      "Division operation completed\n",
      "10 / 0 = None\n",
      "Error: Invalid types for division!\n",
      "Division operation completed\n",
      "'10' / 'hello' = None\n"
     ]
    }
   ],
   "source": [
    "def safe_divide(a, b):\n",
    "    try:\n",
    "        result = a / b\n",
    "        return result\n",
    "    except ZeroDivisionError:\n",
    "        print(\"Error: Cannot divide by zero!\")\n",
    "        return None\n",
    "    except TypeError:\n",
    "        print(\"Error: Invalid types for division!\")\n",
    "        return None\n",
    "    finally:\n",
    "        print(\"Division operation completed\")\n",
    "\n",
    "# Test the function\n",
    "print(f\"10 / 2 = {safe_divide(10, 2)}\")\n",
    "print(f\"10 / 0 = {safe_divide(10, 0)}\")\n",
    "print(f\"'10' / 'hello' = {safe_divide('10', 'hello')}\")"
   ]
  },
  {
   "cell_type": "markdown",
   "metadata": {},
   "source": [
    "## Classes and Objects\n",
    "\n",
    "Object-oriented programming in Python"
   ]
  },
  {
   "cell_type": "code",
   "execution_count": 26,
   "metadata": {},
   "outputs": [
    {
     "name": "stdout",
     "output_type": "stream",
     "text": [
      "Alice, 20 years old, majoring in Computer Science\n",
      "Alice's GPA: 3.90\n",
      "School: University of AI\n"
     ]
    }
   ],
   "source": [
    "class Student:\n",
    "    # Class variable (shared by all instances)\n",
    "    school_name = \"University of AI\"\n",
    "    \n",
    "    def __init__(self, name, age, major):  # Constructor\n",
    "        self.name = name      # Instance variables\n",
    "        self.age = age\n",
    "        self.major = major\n",
    "        self.grades = []\n",
    "    \n",
    "    def add_grade(self, grade):\n",
    "        self.grades.append(grade)\n",
    "    \n",
    "    def get_gpa(self):\n",
    "        if not self.grades:\n",
    "            return 0.0\n",
    "        return sum(self.grades) / len(self.grades)\n",
    "    \n",
    "    def __str__(self):  # String representation\n",
    "        return f\"{self.name}, {self.age} years old, majoring in {self.major}\"\n",
    "\n",
    "# Create and use objects\n",
    "alice = Student(\"Alice\", 20, \"Computer Science\")\n",
    "bob = Student(\"Bob\", 19, \"Mathematics\")\n",
    "\n",
    "alice.add_grade(3.8)\n",
    "alice.add_grade(3.9)\n",
    "alice.add_grade(4.0)\n",
    "\n",
    "print(alice)\n",
    "print(f\"Alice's GPA: {alice.get_gpa():.2f}\")\n",
    "print(f\"School: {Student.school_name}\")"
   ]
  },
  {
   "cell_type": "markdown",
   "metadata": {},
   "source": [
    "## File I/O\n",
    "\n",
    "Reading and writing files in Python"
   ]
  },
  {
   "cell_type": "code",
   "execution_count": 27,
   "metadata": {},
   "outputs": [
    {
     "name": "stdout",
     "output_type": "stream",
     "text": [
      "Data written to students.txt\n",
      "\n",
      "Reading data back:\n",
      "Name: Alice, Age: 20, Major: Computer Science, GPA: 3.8\n",
      "Name: Bob, Age: 19, Major: Mathematics, GPA: 3.6\n",
      "Name: Charlie, Age: 21, Major: Physics, GPA: 3.9\n"
     ]
    }
   ],
   "source": [
    "# Writing to a file\n",
    "students_data = [\n",
    "    \"Alice,20,Computer Science,3.8\",\n",
    "    \"Bob,19,Mathematics,3.6\",\n",
    "    \"Charlie,21,Physics,3.9\"\n",
    "]\n",
    "\n",
    "# Write data to file\n",
    "with open(\"students.txt\", \"w\") as file:\n",
    "    for line in students_data:\n",
    "        file.write(line + \"\\n\")\n",
    "\n",
    "print(\"Data written to students.txt\")\n",
    "\n",
    "# Reading from a file\n",
    "print(\"\\nReading data back:\")\n",
    "with open(\"students.txt\", \"r\") as file:\n",
    "    for line in file:\n",
    "        name, age, major, gpa = line.strip().split(\",\")\n",
    "        print(f\"Name: {name}, Age: {age}, Major: {major}, GPA: {gpa}\")\n",
    "\n",
    "# The 'with' statement automatically closes the file\n",
    "# This is similar to 'using' in C#"
   ]
  },
  {
   "cell_type": "markdown",
   "metadata": {},
   "source": [
    "## Common Python Idioms\n",
    "\n",
    "These patterns are very \"Pythonic\" and you'll see them everywhere"
   ]
  },
  {
   "cell_type": "code",
   "execution_count": 28,
   "metadata": {},
   "outputs": [
    {
     "name": "stdout",
     "output_type": "stream",
     "text": [
      "List is empty\n",
      "Before swap: a=10, b=20\n",
      "After swap: a=20, b=10\n",
      "Name: Alice, Age: 20, Major: CS\n",
      "0: apple\n",
      "1: banana\n",
      "2: orange\n",
      "Alice: 95\n",
      "Bob: 87\n",
      "Charlie: 92\n",
      "Original: '  Hello, World!  '\n",
      "Stripped: 'Hello, World!'\n",
      "Lower: '  hello, world!  '\n",
      "Replace: '  Hello, Python!  '\n"
     ]
    }
   ],
   "source": [
    "# 1. Checking if a list is empty\n",
    "my_list = []\n",
    "if not my_list:  # Pythonic way\n",
    "    print(\"List is empty\")\n",
    "\n",
    "# 2. Swapping variables\n",
    "a, b = 10, 20\n",
    "print(f\"Before swap: a={a}, b={b}\")\n",
    "a, b = b, a  # Pythonic swap!\n",
    "print(f\"After swap: a={a}, b={b}\")\n",
    "\n",
    "# 3. Multiple assignment\n",
    "name, age, major = \"Alice\", 20, \"CS\"\n",
    "print(f\"Name: {name}, Age: {age}, Major: {major}\")\n",
    "\n",
    "# 4. Enumerate for index and value\n",
    "fruits = [\"apple\", \"banana\", \"orange\"]\n",
    "for i, fruit in enumerate(fruits):\n",
    "    print(f\"{i}: {fruit}\")\n",
    "\n",
    "# 5. Zip for parallel iteration\n",
    "names = [\"Alice\", \"Bob\", \"Charlie\"]\n",
    "scores = [95, 87, 92]\n",
    "for name, score in zip(names, scores):\n",
    "    print(f\"{name}: {score}\")\n",
    "\n",
    "# 6. String methods\n",
    "text = \"  Hello, World!  \"\n",
    "print(f\"Original: '{text}'\")\n",
    "print(f\"Stripped: '{text.strip()}'\")\n",
    "print(f\"Lower: '{text.lower()}'\")\n",
    "print(f\"Replace: '{text.replace('World', 'Python')}'\")"
   ]
  },
  {
   "cell_type": "markdown",
   "metadata": {},
   "source": [
    "## Quick Reference: Python vs C#/C++\n",
    "\n",
    "| Feature | C#/C++ | Python |\n",
    "|---------|--------|--------|\n",
    "| Variable declaration | `int x = 5;` | `x = 5` |\n",
    "| String formatting | `$\"Hello {name}\"` | `f\"Hello {name}\"` |\n",
    "| Arrays/Lists | `int[] arr = {1,2,3};` | `arr = [1, 2, 3]` |\n",
    "| For loop | `for(int i=0; i<10; i++)` | `for i in range(10):` |\n",
    "| Conditional | `if (condition) { }` | `if condition:` |\n",
    "| Function | `public int Add(int a, int b)` | `def add(a, b):` |\n",
    "| Comments | `// comment` or `/* */` | `# comment` |\n",
    "| Boolean operators | `&&`, `\\|\\|`, `!` | `and`, `or`, `not` |\n",
    "| Null/None | `null` | `None` |\n",
    "\n",
    "## Next Steps\n",
    "\n",
    "Now that you understand Python basics:\n",
    "\n",
    "1. **Practice** - Try converting some of your C#/C++ programs to Python\n",
    "2. **Explore libraries** - NumPy for numerical computing, Pandas for data analysis\n",
    "3. **Learn AI/ML libraries** - TensorFlow, PyTorch, scikit-learn\n",
    "4. **Embrace Python idioms** - Write \"Pythonic\" code\n",
    "\n",
    "**Remember**: Python prioritizes readability and simplicity. When in doubt, choose the more readable option!"
   ]
  }
 ],
 "metadata": {
  "kernelspec": {
   "display_name": ".venv",
   "language": "python",
   "name": "python3"
  },
  "language_info": {
   "codemirror_mode": {
    "name": "ipython",
    "version": 3
   },
   "file_extension": ".py",
   "mimetype": "text/x-python",
   "name": "python",
   "nbconvert_exporter": "python",
   "pygments_lexer": "ipython3",
   "version": "3.13.1"
  }
 },
 "nbformat": 4,
 "nbformat_minor": 4
}
